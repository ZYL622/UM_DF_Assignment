{
 "cells": [
  {
   "cell_type": "markdown",
   "id": "f5bb8f58",
   "metadata": {},
   "source": [
    "# Load and prepare data"
   ]
  },
  {
   "cell_type": "code",
   "execution_count": 1,
   "id": "09e241f2",
   "metadata": {},
   "outputs": [],
   "source": [
    "import pandas as pd\n",
    "import numpy as np\n",
    "import cv2\n",
    "\n",
    "from tqdm import tqdm\n",
    "\n",
    "import os\n",
    "\n",
    "import matplotlib.pyplot as plt\n",
    "\n",
    "# ML\n",
    "from sklearn.neighbors import KNeighborsClassifier\n",
    "from sklearn.ensemble import RandomForestClassifier\n",
    "from sklearn.svm import SVC\n",
    "from sklearn.linear_model import LogisticRegression\n",
    "from sklearn.tree import DecisionTreeClassifier\n",
    "from sklearn.ensemble import VotingClassifier\n",
    "\n",
    "from skimage.io import imread\n",
    "from skimage.transform import resize\n",
    "\n",
    "from sklearn.model_selection import train_test_split\n",
    "from sklearn.metrics import accuracy_score\n",
    "\n",
    "from sklearn.model_selection import train_test_split"
   ]
  },
  {
   "cell_type": "code",
   "execution_count": 2,
   "id": "38648e91",
   "metadata": {},
   "outputs": [
    {
     "data": {
      "text/html": [
       "<div>\n",
       "<style scoped>\n",
       "    .dataframe tbody tr th:only-of-type {\n",
       "        vertical-align: middle;\n",
       "    }\n",
       "\n",
       "    .dataframe tbody tr th {\n",
       "        vertical-align: top;\n",
       "    }\n",
       "\n",
       "    .dataframe thead th {\n",
       "        text-align: right;\n",
       "    }\n",
       "</style>\n",
       "<table border=\"1\" class=\"dataframe\">\n",
       "  <thead>\n",
       "    <tr style=\"text-align: right;\">\n",
       "      <th></th>\n",
       "      <th>Expert 1</th>\n",
       "      <th>Expert 2</th>\n",
       "      <th>Expert 3</th>\n",
       "      <th>Expert 4</th>\n",
       "      <th>color_cam_path</th>\n",
       "      <th>side_cam_path</th>\n",
       "      <th>Rfid</th>\n",
       "      <th>Pos</th>\n",
       "      <th>Majority Vote</th>\n",
       "      <th>Binary Classification</th>\n",
       "      <th>Unnamed: 10</th>\n",
       "    </tr>\n",
       "  </thead>\n",
       "  <tbody>\n",
       "    <tr>\n",
       "      <th>0</th>\n",
       "      <td>4</td>\n",
       "      <td>4</td>\n",
       "      <td>4</td>\n",
       "      <td>4</td>\n",
       "      <td>A1/00387 Plant 0000 Plant 0000/18-02-2019 -- 1...</td>\n",
       "      <td>A1/00387 Plant 0000 Plant 0000/18-02-2019 -- 1...</td>\n",
       "      <td>A1</td>\n",
       "      <td>Plant 0000</td>\n",
       "      <td>4</td>\n",
       "      <td>0</td>\n",
       "      <td>0 -Abnormal plant ,1- Normal plant</td>\n",
       "    </tr>\n",
       "    <tr>\n",
       "      <th>1</th>\n",
       "      <td>1</td>\n",
       "      <td>1</td>\n",
       "      <td>1</td>\n",
       "      <td>1</td>\n",
       "      <td>A1/00388 Plant 0001 Plant 0001/18-02-2019 -- 1...</td>\n",
       "      <td>A1/00388 Plant 0001 Plant 0001/18-02-2019 -- 1...</td>\n",
       "      <td>A1</td>\n",
       "      <td>Plant 0001</td>\n",
       "      <td>1</td>\n",
       "      <td>1</td>\n",
       "      <td>NaN</td>\n",
       "    </tr>\n",
       "    <tr>\n",
       "      <th>2</th>\n",
       "      <td>1</td>\n",
       "      <td>1</td>\n",
       "      <td>1</td>\n",
       "      <td>1</td>\n",
       "      <td>A1/00389 Plant 0002 Plant 0002/18-02-2019 -- 1...</td>\n",
       "      <td>A1/00389 Plant 0002 Plant 0002/18-02-2019 -- 1...</td>\n",
       "      <td>A1</td>\n",
       "      <td>Plant 0002</td>\n",
       "      <td>1</td>\n",
       "      <td>1</td>\n",
       "      <td>NaN</td>\n",
       "    </tr>\n",
       "    <tr>\n",
       "      <th>3</th>\n",
       "      <td>4</td>\n",
       "      <td>4</td>\n",
       "      <td>3</td>\n",
       "      <td>3</td>\n",
       "      <td>A1/00390 Plant 0003 Plant 0003/18-02-2019 -- 1...</td>\n",
       "      <td>A1/00390 Plant 0003 Plant 0003/18-02-2019 -- 1...</td>\n",
       "      <td>A1</td>\n",
       "      <td>Plant 0003</td>\n",
       "      <td>3</td>\n",
       "      <td>0</td>\n",
       "      <td>NaN</td>\n",
       "    </tr>\n",
       "    <tr>\n",
       "      <th>4</th>\n",
       "      <td>3</td>\n",
       "      <td>1</td>\n",
       "      <td>1</td>\n",
       "      <td>1</td>\n",
       "      <td>A1/00391 Plant 0004 Plant 0004/18-02-2019 -- 1...</td>\n",
       "      <td>A1/00391 Plant 0004 Plant 0004/18-02-2019 -- 1...</td>\n",
       "      <td>A1</td>\n",
       "      <td>Plant 0004</td>\n",
       "      <td>1</td>\n",
       "      <td>1</td>\n",
       "      <td>NaN</td>\n",
       "    </tr>\n",
       "    <tr>\n",
       "      <th>5</th>\n",
       "      <td>3</td>\n",
       "      <td>3</td>\n",
       "      <td>3</td>\n",
       "      <td>3</td>\n",
       "      <td>A1/00392 Plant 0005 Plant 0005/18-02-2019 -- 1...</td>\n",
       "      <td>A1/00392 Plant 0005 Plant 0005/18-02-2019 -- 1...</td>\n",
       "      <td>A1</td>\n",
       "      <td>Plant 0005</td>\n",
       "      <td>3</td>\n",
       "      <td>0</td>\n",
       "      <td>NaN</td>\n",
       "    </tr>\n",
       "    <tr>\n",
       "      <th>6</th>\n",
       "      <td>1</td>\n",
       "      <td>3</td>\n",
       "      <td>3</td>\n",
       "      <td>3</td>\n",
       "      <td>A1/00393 Plant 0006 Plant 0006/18-02-2019 -- 1...</td>\n",
       "      <td>A1/00393 Plant 0006 Plant 0006/18-02-2019 -- 1...</td>\n",
       "      <td>A1</td>\n",
       "      <td>Plant 0006</td>\n",
       "      <td>3</td>\n",
       "      <td>0</td>\n",
       "      <td>NaN</td>\n",
       "    </tr>\n",
       "    <tr>\n",
       "      <th>7</th>\n",
       "      <td>1</td>\n",
       "      <td>1</td>\n",
       "      <td>1</td>\n",
       "      <td>1</td>\n",
       "      <td>A1/00394 Plant 0007 Plant 0007/18-02-2019 -- 1...</td>\n",
       "      <td>A1/00394 Plant 0007 Plant 0007/18-02-2019 -- 1...</td>\n",
       "      <td>A1</td>\n",
       "      <td>Plant 0007</td>\n",
       "      <td>1</td>\n",
       "      <td>1</td>\n",
       "      <td>NaN</td>\n",
       "    </tr>\n",
       "    <tr>\n",
       "      <th>8</th>\n",
       "      <td>1</td>\n",
       "      <td>1</td>\n",
       "      <td>1</td>\n",
       "      <td>1</td>\n",
       "      <td>A1/00395 Plant 0008 Plant 0008/18-02-2019 -- 1...</td>\n",
       "      <td>A1/00395 Plant 0008 Plant 0008/18-02-2019 -- 1...</td>\n",
       "      <td>A1</td>\n",
       "      <td>Plant 0008</td>\n",
       "      <td>1</td>\n",
       "      <td>1</td>\n",
       "      <td>NaN</td>\n",
       "    </tr>\n",
       "    <tr>\n",
       "      <th>9</th>\n",
       "      <td>1</td>\n",
       "      <td>1</td>\n",
       "      <td>1</td>\n",
       "      <td>1</td>\n",
       "      <td>A1/00396 Plant 0009 Plant 0009/18-02-2019 -- 1...</td>\n",
       "      <td>A1/00396 Plant 0009 Plant 0009/18-02-2019 -- 1...</td>\n",
       "      <td>A1</td>\n",
       "      <td>Plant 0009</td>\n",
       "      <td>1</td>\n",
       "      <td>1</td>\n",
       "      <td>NaN</td>\n",
       "    </tr>\n",
       "  </tbody>\n",
       "</table>\n",
       "</div>"
      ],
      "text/plain": [
       "   Expert 1  Expert 2  Expert 3  Expert 4  \\\n",
       "0         4         4         4         4   \n",
       "1         1         1         1         1   \n",
       "2         1         1         1         1   \n",
       "3         4         4         3         3   \n",
       "4         3         1         1         1   \n",
       "5         3         3         3         3   \n",
       "6         1         3         3         3   \n",
       "7         1         1         1         1   \n",
       "8         1         1         1         1   \n",
       "9         1         1         1         1   \n",
       "\n",
       "                                      color_cam_path  \\\n",
       "0  A1/00387 Plant 0000 Plant 0000/18-02-2019 -- 1...   \n",
       "1  A1/00388 Plant 0001 Plant 0001/18-02-2019 -- 1...   \n",
       "2  A1/00389 Plant 0002 Plant 0002/18-02-2019 -- 1...   \n",
       "3  A1/00390 Plant 0003 Plant 0003/18-02-2019 -- 1...   \n",
       "4  A1/00391 Plant 0004 Plant 0004/18-02-2019 -- 1...   \n",
       "5  A1/00392 Plant 0005 Plant 0005/18-02-2019 -- 1...   \n",
       "6  A1/00393 Plant 0006 Plant 0006/18-02-2019 -- 1...   \n",
       "7  A1/00394 Plant 0007 Plant 0007/18-02-2019 -- 1...   \n",
       "8  A1/00395 Plant 0008 Plant 0008/18-02-2019 -- 1...   \n",
       "9  A1/00396 Plant 0009 Plant 0009/18-02-2019 -- 1...   \n",
       "\n",
       "                                       side_cam_path Rfid         Pos  \\\n",
       "0  A1/00387 Plant 0000 Plant 0000/18-02-2019 -- 1...   A1  Plant 0000   \n",
       "1  A1/00388 Plant 0001 Plant 0001/18-02-2019 -- 1...   A1  Plant 0001   \n",
       "2  A1/00389 Plant 0002 Plant 0002/18-02-2019 -- 1...   A1  Plant 0002   \n",
       "3  A1/00390 Plant 0003 Plant 0003/18-02-2019 -- 1...   A1  Plant 0003   \n",
       "4  A1/00391 Plant 0004 Plant 0004/18-02-2019 -- 1...   A1  Plant 0004   \n",
       "5  A1/00392 Plant 0005 Plant 0005/18-02-2019 -- 1...   A1  Plant 0005   \n",
       "6  A1/00393 Plant 0006 Plant 0006/18-02-2019 -- 1...   A1  Plant 0006   \n",
       "7  A1/00394 Plant 0007 Plant 0007/18-02-2019 -- 1...   A1  Plant 0007   \n",
       "8  A1/00395 Plant 0008 Plant 0008/18-02-2019 -- 1...   A1  Plant 0008   \n",
       "9  A1/00396 Plant 0009 Plant 0009/18-02-2019 -- 1...   A1  Plant 0009   \n",
       "\n",
       "   Majority Vote  Binary Classification                         Unnamed: 10  \n",
       "0              4                      0  0 -Abnormal plant ,1- Normal plant  \n",
       "1              1                      1                                 NaN  \n",
       "2              1                      1                                 NaN  \n",
       "3              3                      0                                 NaN  \n",
       "4              1                      1                                 NaN  \n",
       "5              3                      0                                 NaN  \n",
       "6              3                      0                                 NaN  \n",
       "7              1                      1                                 NaN  \n",
       "8              1                      1                                 NaN  \n",
       "9              1                      1                                 NaN  "
      ]
     },
     "execution_count": 2,
     "metadata": {},
     "output_type": "execute_result"
    }
   ],
   "source": [
    "# Loads labels\n",
    "df = pd.read_csv(\"seedling_labels.csv\")\n",
    "\n",
    "df.head(10)"
   ]
  },
  {
   "cell_type": "code",
   "execution_count": 3,
   "id": "bd92e276",
   "metadata": {},
   "outputs": [],
   "source": [
    "# Load the images and their labels into two lists\n",
    "images = []\n",
    "labels = []\n",
    "for i in range(len(df)):\n",
    "    # Images \n",
    "    color_cam_path = df.loc[i, 'color_cam_path']\n",
    "    img = imread(color_cam_path)\n",
    "    img = cv2.resize(img, (256, 256))\n",
    "    img = cv2.cvtColor(img, cv2.COLOR_BGR2GRAY)\n",
    "    images.append(img.flatten())\n",
    "    \n",
    "    # Labels\n",
    "    label = df.loc[i, 'Binary Classification'] # 0 or 1\n",
    "    labels.append(label)"
   ]
  },
  {
   "cell_type": "markdown",
   "id": "50b9013f",
   "metadata": {},
   "source": [
    "# Mid level data fusion"
   ]
  },
  {
   "cell_type": "code",
   "execution_count": 4,
   "id": "5f9e6f92",
   "metadata": {},
   "outputs": [
    {
     "name": "stderr",
     "output_type": "stream",
     "text": [
      "100%|██████████| 994/994 [00:24<00:00, 41.25it/s]\n"
     ]
    }
   ],
   "source": [
    "def get_features(img):\n",
    "    # Extract edges\n",
    "    # https://docs.opencv.org/4.x/da/d22/tutorial_py_canny.html\n",
    "    edges = cv2.Canny(img, 100, 200 )\n",
    "\n",
    "    # Extract corners \n",
    "    # https://docs.opencv.org/3.4/dc/d0d/tutorial_py_features_harris.html\n",
    "    corners = cv2.cornerHarris(img, 2, 3, 0.04)\n",
    "    corners = cv2.dilate(corners, None)\n",
    "\n",
    "    # Extract textures\n",
    "    # https://docs.opencv.org/3.4/d2/d2c/tutorial_sobel_derivatives.html\n",
    "    textures = cv2.Sobel(img, cv2.CV_64F, 1, 1, ksize=5)\n",
    "\n",
    "    # Fuse the features\n",
    "    features = np.concatenate((edges[..., np.newaxis], corners[..., np.newaxis], textures[..., np.newaxis]), axis=2)\n",
    "    return np.mean(features, axis=2).flatten()\n",
    "\n",
    "fused_images = []\n",
    "for im in tqdm(images):\n",
    "    fused_images.append(get_features(im))"
   ]
  },
  {
   "cell_type": "markdown",
   "id": "bad0d5ac",
   "metadata": {},
   "source": [
    "# Classifcation using mid level data fused images"
   ]
  },
  {
   "cell_type": "code",
   "execution_count": 5,
   "id": "6efc8c15",
   "metadata": {},
   "outputs": [],
   "source": [
    "# Standard train test split \n",
    "X_train, X_test, y_train, y_test = train_test_split(fused_images, labels, test_size=0.2, random_state=1)"
   ]
  },
  {
   "cell_type": "code",
   "execution_count": 6,
   "id": "a5f8f168",
   "metadata": {},
   "outputs": [
    {
     "name": "stderr",
     "output_type": "stream",
     "text": [
      "100%|██████████| 249/249 [02:22<00:00,  1.75it/s]"
     ]
    },
    {
     "name": "stdout",
     "output_type": "stream",
     "text": [
      "Minimum error:- 0.3065326633165829 at K = 232\n"
     ]
    },
    {
     "name": "stderr",
     "output_type": "stream",
     "text": [
      "\n"
     ]
    },
    {
     "data": {
      "image/png": "[encoded data removed]",
      "text/plain": [
       "<Figure size 1000x600 with 1 Axes>"
      ]
     },
     "metadata": {},
     "output_type": "display_data"
    }
   ],
   "source": [
    "# Supress warnings\n",
    "from warnings import simplefilter\n",
    "simplefilter(action='ignore', category=FutureWarning)\n",
    "\n",
    "# KNN\n",
    "error_rate = []\n",
    "\n",
    "for i in tqdm(range(1,250)):\n",
    "    knn = KNeighborsClassifier(n_neighbors=i)\n",
    "    knn.fit(X_train, y_train)\n",
    "    prediction_n = knn.predict(X_test)\n",
    "    error_rate.append(np.mean(prediction_n != y_test))\n",
    "\n",
    "plt.figure(figsize=(10,6))\n",
    "plt.plot(range(1,250), error_rate)\n",
    "plt.title('Error Rate vs. K Value')\n",
    "plt.xlabel('Chosen K')\n",
    "plt.ylabel('Error Rate')\n",
    "print(\"Minimum error:-\", min(error_rate), \"at K =\", error_rate.index(min(error_rate)))\n",
    "# Best K is 232"
   ]
  },
  {
   "cell_type": "code",
   "execution_count": 7,
   "id": "eaeb5a44",
   "metadata": {},
   "outputs": [
    {
     "name": "stdout",
     "output_type": "stream",
     "text": [
      "Accuracy: 0.6884422110552764\n",
      "Accuracy: 0.7185929648241206\n",
      "Accuracy: 0.6733668341708543\n",
      "Accuracy: 0.8994974874371859\n",
      "Accuracy: 0.8944723618090452\n"
     ]
    },
    {
     "name": "stderr",
     "output_type": "stream",
     "text": [
      "C:\\ProgramData\\Anaconda3\\lib\\site-packages\\sklearn\\linear_model\\_logistic.py:814: ConvergenceWarning: lbfgs failed to converge (status=1):\n",
      "STOP: TOTAL NO. of ITERATIONS REACHED LIMIT.\n",
      "\n",
      "Increase the number of iterations (max_iter) or scale the data as shown in:\n",
      "    https://scikit-learn.org/stable/modules/preprocessing.html\n",
      "Please also refer to the documentation for alternative solver options:\n",
      "    https://scikit-learn.org/stable/modules/linear_model.html#logistic-regression\n",
      "  n_iter_i = _check_optimize_result(\n"
     ]
    }
   ],
   "source": [
    "# Now we use optimal K to find accuracy\n",
    "knn = KNeighborsClassifier(n_neighbors=232)\n",
    "knn.fit(X_train, y_train)\n",
    "\n",
    "y_pred = knn.predict(X_test)\n",
    "\n",
    "knn_accuracy = accuracy_score(y_test, y_pred)\n",
    "print(f\"Accuracy: {knn_accuracy}\")\n",
    "\n",
    "# Random forest\n",
    "rf = RandomForestClassifier(n_estimators=100, random_state=1)\n",
    "rf.fit(X_train, y_train)\n",
    "\n",
    "y_pred = rf.predict(X_test)\n",
    "\n",
    "rf_accuracy = accuracy_score(y_test, y_pred)\n",
    "print(f\"Accuracy: {rf_accuracy}\")\n",
    "\n",
    "# Decision three\n",
    "dt = DecisionTreeClassifier(random_state=1)\n",
    "dt.fit(X_train, y_train)\n",
    "\n",
    "y_pred = dt.predict(X_test)\n",
    "\n",
    "dt_accuracy = accuracy_score(y_test, y_pred)\n",
    "print(f\"Accuracy: {dt_accuracy}\")\n",
    "\n",
    "# SVM\n",
    "svm = SVC(kernel='linear', C=1, random_state=1)\n",
    "svm.fit(X_train, y_train)\n",
    "\n",
    "y_pred = svm.predict(X_test)\n",
    "\n",
    "svm_accuracy = accuracy_score(y_test, y_pred)\n",
    "print(f\"Accuracy: {svm_accuracy}\")\n",
    "\n",
    "# Logistic Regress\n",
    "lr = LogisticRegression(random_state=1)\n",
    "lr.fit(X_train, y_train)\n",
    "\n",
    "y_pred = lr.predict(X_test)\n",
    "\n",
    "lr_accuracy = accuracy_score(y_test, y_pred)\n",
    "print(f\"Accuracy: {lr_accuracy}\")"
   ]
  },
  {
   "cell_type": "markdown",
   "id": "0a628e07",
   "metadata": {},
   "source": [
    "# Weighted voting \n",
    "Using accuracy as weights "
   ]
  },
  {
   "cell_type": "code",
   "execution_count": 8,
   "id": "c06b6205",
   "metadata": {},
   "outputs": [
    {
     "name": "stderr",
     "output_type": "stream",
     "text": [
      "C:\\ProgramData\\Anaconda3\\lib\\site-packages\\sklearn\\linear_model\\_logistic.py:814: ConvergenceWarning: lbfgs failed to converge (status=1):\n",
      "STOP: TOTAL NO. of ITERATIONS REACHED LIMIT.\n",
      "\n",
      "Increase the number of iterations (max_iter) or scale the data as shown in:\n",
      "    https://scikit-learn.org/stable/modules/preprocessing.html\n",
      "Please also refer to the documentation for alternative solver options:\n",
      "    https://scikit-learn.org/stable/modules/linear_model.html#logistic-regression\n",
      "  n_iter_i = _check_optimize_result(\n"
     ]
    },
    {
     "name": "stdout",
     "output_type": "stream",
     "text": [
      "Accuracy hard voting: 0.8291457286432161\n"
     ]
    },
    {
     "name": "stderr",
     "output_type": "stream",
     "text": [
      "C:\\ProgramData\\Anaconda3\\lib\\site-packages\\sklearn\\linear_model\\_logistic.py:814: ConvergenceWarning: lbfgs failed to converge (status=1):\n",
      "STOP: TOTAL NO. of ITERATIONS REACHED LIMIT.\n",
      "\n",
      "Increase the number of iterations (max_iter) or scale the data as shown in:\n",
      "    https://scikit-learn.org/stable/modules/preprocessing.html\n",
      "Please also refer to the documentation for alternative solver options:\n",
      "    https://scikit-learn.org/stable/modules/linear_model.html#logistic-regression\n",
      "  n_iter_i = _check_optimize_result(\n"
     ]
    },
    {
     "name": "stdout",
     "output_type": "stream",
     "text": [
      "Accuracy soft voting: 0.8793969849246231\n"
     ]
    }
   ],
   "source": [
    "# Params\n",
    "models = [('knn', knn),\n",
    "          ('rf', rf),\n",
    "          ('dt', dt),\n",
    "          ('svm', svm),\n",
    "          ('lr', lr)]\n",
    "\n",
    "weights = [knn_accuracy, rf_accuracy, dt_accuracy, svm_accuracy, lr_accuracy]\n",
    "\n",
    "# Hard voting\n",
    "ensemble_hard = VotingClassifier(estimators=models, weights=weights, voting='hard')\n",
    "ensemble_hard = ensemble_hard.fit(X_train, y_train)\n",
    "ensemble_hard_pred = ensemble_hard.predict(X_test)\n",
    "hard_accuracy = accuracy_score(y_test, ensemble_hard_pred)\n",
    "print(f\"Accuracy hard voting: {hard_accuracy}\")\n",
    "\n",
    "# Soft voting\n",
    "# Updated params\n",
    "models = [('knn', knn),\n",
    "          ('rf', rf),\n",
    "          ('dt', dt),\n",
    "          ('svm', SVC(probability=True)),\n",
    "          ('lr', lr)]\n",
    "\n",
    "ensemble_soft = VotingClassifier(estimators=models, weights=weights, voting='soft')\n",
    "ensemble_soft = ensemble_soft.fit(X_train, y_train)\n",
    "ensemble_soft_pred = ensemble_soft.predict(X_test)\n",
    "soft_accuracy = accuracy_score(y_test, ensemble_soft_pred)\n",
    "print(f\"Accuracy soft voting: {soft_accuracy}\")"
   ]
  },
  {
   "cell_type": "code",
   "execution_count": 9,
   "id": "f687555f",
   "metadata": {},
   "outputs": [
    {
     "data": {
      "text/plain": [
       "['ensemble_hard_MDF_top.joblib']"
      ]
     },
     "execution_count": 9,
     "metadata": {},
     "output_type": "execute_result"
    }
   ],
   "source": [
    "# Save model\n",
    "from joblib import dump\n",
    "dump(ensemble_soft, 'ensemble_soft_MDF_top.joblib') \n",
    "dump(ensemble_hard, 'ensemble_hard_MDF_top.joblib') "
   ]
  }
 ],
 "metadata": {
  "kernelspec": {
   "display_name": "Python 3 (ipykernel)",
   "language": "python",
   "name": "python3"
  },
  "language_info": {
   "codemirror_mode": {
    "name": "ipython",
    "version": 3
   },
   "file_extension": ".py",
   "mimetype": "text/x-python",
   "name": "python",
   "nbconvert_exporter": "python",
   "pygments_lexer": "ipython3",
   "version": "3.9.13"
  }
 },
 "nbformat": 4,
 "nbformat_minor": 5
}
